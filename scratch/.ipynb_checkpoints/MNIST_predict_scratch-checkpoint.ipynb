{
 "cells": [
  {
   "cell_type": "code",
   "execution_count": 1,
   "metadata": {},
   "outputs": [
    {
     "name": "stderr",
     "output_type": "stream",
     "text": [
      "Using TensorFlow backend.\n"
     ]
    }
   ],
   "source": [
    "from keras.models import load_model\n",
    "from matplotlib import pyplot\n",
    "import numpy as np\n",
    "from PIL import Image"
   ]
  },
  {
   "cell_type": "code",
   "execution_count": 14,
   "metadata": {},
   "outputs": [
    {
     "name": "stdout",
     "output_type": "stream",
     "text": [
      "(280, 280)\n",
      "(28, 28)\n"
     ]
    }
   ],
   "source": [
    "# resize image and force a new shape\n",
    "\n",
    "# load the image\n",
    "image = Image.open('images/digit.png')\n",
    "# report the size of the image\n",
    "print(image.size)\n",
    "# resize image and ignore original aspect ratio\n",
    "img_resized = image.resize((28,28))\n",
    "# report the size of the thumbnail\n",
    "print(img_resized.size)"
   ]
  },
  {
   "cell_type": "code",
   "execution_count": 15,
   "metadata": {},
   "outputs": [],
   "source": [
    "pix = np.array(img_resized)"
   ]
  },
  {
   "cell_type": "code",
   "execution_count": 16,
   "metadata": {},
   "outputs": [
    {
     "data": {
      "text/plain": [
       "(28, 28, 4)"
      ]
     },
     "execution_count": 16,
     "metadata": {},
     "output_type": "execute_result"
    }
   ],
   "source": [
    "pix.shape"
   ]
  },
  {
   "cell_type": "code",
   "execution_count": 17,
   "metadata": {},
   "outputs": [
    {
     "data": {
      "text/plain": [
       "(array([ 5,  5,  5,  5,  5,  5,  5,  6,  6,  6,  6,  7,  7,  8,  8,  9,  9,\n",
       "         9,  9,  9, 10, 10, 10, 10, 10, 10, 10, 11, 12, 13, 14, 15, 16, 17,\n",
       "        18, 19]),\n",
       " array([12, 13, 14, 15, 16, 17, 18, 10, 11, 12, 18, 10, 18, 10, 18, 10, 11,\n",
       "        17, 19, 20, 12, 13, 14, 15, 16, 17, 18, 17, 17, 16, 16, 16, 16, 16,\n",
       "        16, 15]))"
      ]
     },
     "execution_count": 17,
     "metadata": {},
     "output_type": "execute_result"
    }
   ],
   "source": [
    "pix[:,:,3].nonzero()"
   ]
  },
  {
   "cell_type": "code",
   "execution_count": 18,
   "metadata": {},
   "outputs": [],
   "source": [
    "pix2 = pix[:,:,3]"
   ]
  },
  {
   "cell_type": "code",
   "execution_count": 19,
   "metadata": {},
   "outputs": [
    {
     "data": {
      "text/plain": [
       "(28, 28)"
      ]
     },
     "execution_count": 19,
     "metadata": {},
     "output_type": "execute_result"
    }
   ],
   "source": [
    "pix2.shape"
   ]
  },
  {
   "cell_type": "code",
   "execution_count": 20,
   "metadata": {},
   "outputs": [],
   "source": [
    "pix2 = pix2 / 255"
   ]
  },
  {
   "cell_type": "code",
   "execution_count": 21,
   "metadata": {},
   "outputs": [
    {
     "data": {
      "image/png": "[encoded data removed]",
      "text/plain": [
       "<Figure size 432x288 with 1 Axes>"
      ]
     },
     "metadata": {},
     "output_type": "display_data"
    }
   ],
   "source": [
    "from matplotlib import pyplot\n",
    "%matplotlib inline \n",
    "\n",
    "# plot first few images\n",
    "pyplot.subplot(330 + 1)\n",
    "# plot raw pixel data\n",
    "pyplot.imshow(pix2, cmap=pyplot.get_cmap('gray'))\n",
    "# show the figure\n",
    "pyplot.show()"
   ]
  },
  {
   "cell_type": "code",
   "execution_count": 22,
   "metadata": {},
   "outputs": [],
   "source": [
    "pix2 = np.expand_dims(pix2, 2)\n",
    "pix2 = np.expand_dims(pix2, 0)"
   ]
  },
  {
   "cell_type": "code",
   "execution_count": 23,
   "metadata": {},
   "outputs": [
    {
     "data": {
      "text/plain": [
       "(1, 28, 28, 1)"
      ]
     },
     "execution_count": 23,
     "metadata": {},
     "output_type": "execute_result"
    }
   ],
   "source": [
    "pix2.shape"
   ]
  },
  {
   "cell_type": "code",
   "execution_count": 24,
   "metadata": {},
   "outputs": [],
   "source": [
    "model = load_model('MNIST_digits.h5')\n",
    "\n",
    "#input_array.shape == (1, 28, 28, 1)\n",
    "def predict(input_array):\n",
    "    pred = model.predict(input_array)\n",
    "    pred_list = []\n",
    "    i = 0\n",
    "    while i < 10:\n",
    "        pred_list.append((i,pred[0,i]))\n",
    "        i += 1\n",
    "    return pred_list"
   ]
  },
  {
   "cell_type": "code",
   "execution_count": 25,
   "metadata": {},
   "outputs": [
    {
     "data": {
      "text/plain": [
       "[(0, 0.00075749133),\n",
       " (1, 0.00021214568),\n",
       " (2, 0.033280913),\n",
       " (3, 0.14563282),\n",
       " (4, 1.1401266e-05),\n",
       " (5, 0.05205629),\n",
       " (6, 4.534023e-05),\n",
       " (7, 0.3267193),\n",
       " (8, 0.08313709),\n",
       " (9, 0.35814714)]"
      ]
     },
     "execution_count": 25,
     "metadata": {},
     "output_type": "execute_result"
    }
   ],
   "source": [
    "predict(pix2)"
   ]
  },
  {
   "cell_type": "code",
   "execution_count": 193,
   "metadata": {},
   "outputs": [],
   "source": [
    "pix3 = pix2.flatten()"
   ]
  },
  {
   "cell_type": "code",
   "execution_count": 207,
   "metadata": {},
   "outputs": [],
   "source": [
    "pix4 = pix2.tolist()"
   ]
  },
  {
   "cell_type": "code",
   "execution_count": 208,
   "metadata": {},
   "outputs": [],
   "source": [
    "pix5 = np.asarray(pix4)"
   ]
  },
  {
   "cell_type": "code",
   "execution_count": 209,
   "metadata": {},
   "outputs": [
    {
     "data": {
      "text/plain": [
       "(1, 28, 28, 1)"
      ]
     },
     "execution_count": 209,
     "metadata": {},
     "output_type": "execute_result"
    }
   ],
   "source": [
    "pix5.shape"
   ]
  },
  {
   "cell_type": "code",
   "execution_count": 218,
   "metadata": {},
   "outputs": [
    {
     "data": {
      "text/plain": [
       "[(0, 1.0323389e-10),\n",
       " (1, 3.69123e-08),\n",
       " (2, 1.3657521e-07),\n",
       " (3, 0.7099414),\n",
       " (4, 3.806565e-08),\n",
       " (5, 0.25786805),\n",
       " (6, 4.5492646e-07),\n",
       " (7, 4.7526143e-08),\n",
       " (8, 0.032130077),\n",
       " (9, 5.9743383e-05)]"
      ]
     },
     "execution_count": 218,
     "metadata": {},
     "output_type": "execute_result"
    }
   ],
   "source": [
    "predict(pix4)"
   ]
  },
  {
   "cell_type": "code",
   "execution_count": 32,
   "metadata": {},
   "outputs": [],
   "source": [
    "model = load_model('MNIST_digits.h5')\n",
    "\n",
    "#input_array.shape == (1, 28, 28, 1)\n",
    "def predict(image):\n",
    "    img = Image.open(image)\n",
    "    img_resized = img.resize((28,28))\n",
    "    pix = np.array(img_resized)\n",
    "    pix2 = pix[:,:,3]\n",
    "    pix2 = pix2 / 255\n",
    "    pix2 = np.expand_dims(pix2, 2)\n",
    "    pix2 = np.expand_dims(pix2, 0)\n",
    "    pred = model.predict(pix2)\n",
    "    pred_list = []\n",
    "    for i in range(10):\n",
    "        pred_list.append((i,pred[0,i]))\n",
    "        i += 1\n",
    "    return pred_list"
   ]
  },
  {
   "cell_type": "code",
   "execution_count": 38,
   "metadata": {},
   "outputs": [],
   "source": [
    "model = load_model('MNIST_digits.h5')\n",
    "\n",
    "#input_array.shape == (1, 28, 28, 1)\n",
    "def predict(image):\n",
    "    img = Image.open(image)\n",
    "    img = img.resize((28,28))\n",
    "    pix = np.array(img)\n",
    "    pix = pix[:,:,3]\n",
    "    pix = pix / 255\n",
    "    pix = np.expand_dims(pix, 2)\n",
    "    pix = np.expand_dims(pix, 0)\n",
    "    pred = model.predict(pix)\n",
    "    pred_list = []\n",
    "    for i in range(10):\n",
    "        pred_list.append((i,pred[0,i]))\n",
    "        i += 1\n",
    "    return pred_list"
   ]
  },
  {
   "cell_type": "code",
   "execution_count": 39,
   "metadata": {},
   "outputs": [
    {
     "data": {
      "text/plain": [
       "[(0, 0.00075749133),\n",
       " (1, 0.00021214568),\n",
       " (2, 0.033280913),\n",
       " (3, 0.14563282),\n",
       " (4, 1.1401266e-05),\n",
       " (5, 0.05205629),\n",
       " (6, 4.534023e-05),\n",
       " (7, 0.3267193),\n",
       " (8, 0.08313709),\n",
       " (9, 0.35814714)]"
      ]
     },
     "execution_count": 39,
     "metadata": {},
     "output_type": "execute_result"
    }
   ],
   "source": [
    "predict('images/digit.png')"
   ]
  },
  {
   "cell_type": "code",
   "execution_count": 35,
   "metadata": {},
   "outputs": [
    {
     "name": "stdout",
     "output_type": "stream",
     "text": [
      "500\n",
      "{'Server': 'nginx', 'Date': 'Fri, 18 Oct 2019 14:33:28 GMT', 'Content-Type': 'text/html', 'Content-Length': '291', 'Connection': 'keep-alive', 'Access-Control-Allow-Headers': 'authorization,content-type', 'Access-Control-Allow-Methods': 'POST', 'Access-Control-Allow-Origin': '*', 'Vary': 'Accept-Encoding', 'X-Frame-Options': 'SAMEORIGIN', 'Strict-Transport-Security': 'max-age=15768000; includeSubDomains'}\n",
      "<Response [500]>\n"
     ]
    }
   ],
   "source": [
    "import requests\n",
    " \n",
    "response = requests.post(\"https://vip.domino.tech:443/models/5da7ade5c9e77c0007521b82/latest/model\",\n",
    "    auth=(\n",
    "        \"Vo3MizRV91Sz9fIsO3xBiPp4PRGoWPcQxUsbhk3uuRshAwCXu3LKzZP24KoSP4Oa\",\n",
    "        \"Vo3MizRV91Sz9fIsO3xBiPp4PRGoWPcQxUsbhk3uuRshAwCXu3LKzZP24KoSP4Oa\"\n",
    "    ),\n",
    "    json={\n",
    "        \"data\": {\"image\": \"images/digit.png\"}\n",
    "    }\n",
    ")\n",
    " \n",
    "print(response.status_code)\n",
    "print(response.headers)\n",
    "#print(response.json())\n",
    "print(response)"
   ]
  },
  {
   "cell_type": "code",
   "execution_count": 37,
   "metadata": {},
   "outputs": [
    {
     "data": {
      "text/plain": [
       "\u001b[0;31mType:\u001b[0m        Response\n",
       "\u001b[0;31mString form:\u001b[0m <Response [500]>\n",
       "\u001b[0;31mFile:\u001b[0m        /usr/local/anaconda/lib/python3.6/site-packages/requests/models.py\n",
       "\u001b[0;31mDocstring:\u001b[0m  \n",
       "The :class:`Response <Response>` object, which contains a\n",
       "server's response to an HTTP request.\n"
      ]
     },
     "metadata": {},
     "output_type": "display_data"
    }
   ],
   "source": [
    "?response"
   ]
  },
  {
   "cell_type": "code",
   "execution_count": null,
   "metadata": {},
   "outputs": [],
   "source": []
  }
 ],
 "metadata": {
  "kernelspec": {
   "display_name": "Python 3",
   "language": "python",
   "name": "python3"
  },
  "language_info": {
   "codemirror_mode": {
    "name": "ipython",
    "version": 3
   },
   "file_extension": ".py",
   "mimetype": "text/x-python",
   "name": "python",
   "nbconvert_exporter": "python",
   "pygments_lexer": "ipython3",
   "version": "3.6.6"
  }
 },
 "nbformat": 4,
 "nbformat_minor": 2
}
