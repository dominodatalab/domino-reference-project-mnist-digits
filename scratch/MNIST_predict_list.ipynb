{
 "cells": [
  {
   "cell_type": "code",
   "execution_count": 15,
   "metadata": {},
   "outputs": [],
   "source": [
    "from keras.models import load_model\n",
    "import numpy as np\n",
    "from PIL import Image"
   ]
  },
  {
   "cell_type": "code",
   "execution_count": 104,
   "metadata": {},
   "outputs": [],
   "source": [
    "img = Image.open('images/digit.png')\n",
    "img = img.resize((28,28))\n",
    "pix = np.array(img)\n",
    "pix = pix[:,:,3]\n",
    "pix = pix / 255.\n",
    "pix = np.expand_dims(pix, 2)\n",
    "pix = np.expand_dims(pix, 0)\n",
    "pix_list = pix.tolist()"
   ]
  },
  {
   "cell_type": "code",
   "execution_count": 105,
   "metadata": {},
   "outputs": [],
   "source": [
    "model = load_model('MNIST_digits.h5')\n",
    "\n",
    "def predict(input_array):\n",
    "    input_array = np.asarray(input_array)\n",
    "    pred = model.predict(input_array)\n",
    "    pred_list = []\n",
    "    for i in range(10):\n",
    "        pred_list.append((i,pred[0,i]))\n",
    "        i += 1\n",
    "    return pred_list"
   ]
  },
  {
   "cell_type": "code",
   "execution_count": 106,
   "metadata": {},
   "outputs": [
    {
     "data": {
      "text/plain": [
       "[(0, 0.00075749133),\n",
       " (1, 0.00021214568),\n",
       " (2, 0.033280913),\n",
       " (3, 0.14563282),\n",
       " (4, 1.1401266e-05),\n",
       " (5, 0.05205629),\n",
       " (6, 4.534023e-05),\n",
       " (7, 0.3267193),\n",
       " (8, 0.08313709),\n",
       " (9, 0.35814714)]"
      ]
     },
     "execution_count": 106,
     "metadata": {},
     "output_type": "execute_result"
    }
   ],
   "source": [
    "predict(pix_list)"
   ]
  },
  {
   "cell_type": "code",
   "execution_count": 113,
   "metadata": {},
   "outputs": [
    {
     "name": "stdout",
     "output_type": "stream",
     "text": [
      "0.0\n"
     ]
    },
    {
     "data": {
      "text/plain": [
       "float"
      ]
     },
     "execution_count": 113,
     "metadata": {},
     "output_type": "execute_result"
    }
   ],
   "source": [
    "print(pix_list[0][0][0][0])\n",
    "type(pix_list[0][0][0][0])"
   ]
  },
  {
   "cell_type": "markdown",
   "metadata": {},
   "source": [
    "## 1x28x28x1"
   ]
  },
  {
   "cell_type": "code",
   "execution_count": 107,
   "metadata": {},
   "outputs": [
    {
     "data": {
      "text/plain": [
       "(1, 28, 28, 1)"
      ]
     },
     "execution_count": 107,
     "metadata": {},
     "output_type": "execute_result"
    }
   ],
   "source": [
    "np.asarray(pix_list).shape"
   ]
  },
  {
   "cell_type": "code",
   "execution_count": 115,
   "metadata": {},
   "outputs": [
    {
     "name": "stdout",
     "output_type": "stream",
     "text": [
      "200\n",
      "{'Server': 'nginx', 'Date': 'Fri, 18 Oct 2019 18:20:32 GMT', 'Content-Type': 'application/json', 'Content-Length': '448', 'Connection': 'keep-alive', 'Access-Control-Allow-Headers': 'authorization,content-type', 'Access-Control-Allow-Methods': 'POST', 'Access-Control-Allow-Origin': '*', 'Vary': 'Accept-Encoding', 'X-Request-Id': 'S1DUQA5RNIP8FMBY', 'X-Frame-Options': 'SAMEORIGIN', 'Content-Security-Policy': \"frame-ancestors 'self'\", 'Strict-Transport-Security': 'max-age=15768000; includeSubDomains'}\n",
      "{'model_time_in_ms': 66, 'release': {'harness_version': '0.1', 'model_version': '5daa021f46e0fb00078edf1f', 'model_version_number': 12}, 'request_id': 'S1DUQA5RNIP8FMBY', 'result': [[0, 0.0007574913324788213], [1, 0.00021214567823335528], [2, 0.03328091278672218], [3, 0.1456328183412552], [4, 1.1401266419852618e-05], [5, 0.052056290209293365], [6, 4.534023173619062e-05], [7, 0.3267193138599396], [8, 0.08313708752393723], [9, 0.35814714431762695]], 'timing': 66.04576110839844}\n"
     ]
    }
   ],
   "source": [
    "import requests\n",
    " \n",
    "response = requests.post(\"https://vip.domino.tech:443/models/5da9d5f546e0fb00078ede96/latest/model\",\n",
    "    auth=(\n",
    "        \"YdjGQYtt8jBp2k4xhItQg7AP1xLRQssMxtts3MluiBIxlTtg84ytFB1yFbSsUncv\",\n",
    "        \"YdjGQYtt8jBp2k4xhItQg7AP1xLRQssMxtts3MluiBIxlTtg84ytFB1yFbSsUncv\"\n",
    "    ),\n",
    "    json={\n",
    "        \"data\": {\"input_array\": pix_list}\n",
    "    }\n",
    ")\n",
    " \n",
    "print(response.status_code)\n",
    "print(response.headers)\n",
    "print(response.json())"
   ]
  },
  {
   "cell_type": "markdown",
   "metadata": {},
   "source": [
    "## 28x28"
   ]
  },
  {
   "cell_type": "code",
   "execution_count": 65,
   "metadata": {},
   "outputs": [
    {
     "data": {
      "text/plain": [
       "(28, 28)"
      ]
     },
     "execution_count": 65,
     "metadata": {},
     "output_type": "execute_result"
    }
   ],
   "source": [
    "pix_28_28 = np.squeeze(pix)\n",
    "pix_28_28_list = pix_28_28.tolist()\n",
    "np.asarray(pix_28_28_list).shape"
   ]
  },
  {
   "cell_type": "code",
   "execution_count": 86,
   "metadata": {},
   "outputs": [
    {
     "name": "stdout",
     "output_type": "stream",
     "text": [
      "400\n",
      "{'Server': 'nginx', 'Date': 'Fri, 18 Oct 2019 17:48:36 GMT', 'Content-Type': 'application/json', 'Content-Length': '316', 'Connection': 'keep-alive', 'Access-Control-Allow-Headers': 'authorization,content-type', 'Access-Control-Allow-Methods': 'POST', 'Access-Control-Allow-Origin': '*', 'Vary': 'Accept-Encoding', 'X-Request-Id': '7NP0WBHEL4M6VOX2', 'X-Frame-Options': 'SAMEORIGIN', 'Strict-Transport-Security': 'max-age=15768000; includeSubDomains'}\n",
      "{'error': {'message': 'Error when checking input: expected conv2d_3_input to have 4 dimensions, but got array with shape (28, 28)'}, 'model_time_in_ms': 1, 'release': {'harness_version': '0.1', 'model_version': '5da9faa3c9e77c0007521d9d', 'model_version_number': 8}, 'request_id': '7NP0WBHEL4M6VOX2', 'timing': 1.1343955993652344}\n"
     ]
    }
   ],
   "source": [
    "import requests\n",
    " \n",
    "response = requests.post(\"https://vip.domino.tech:443/models/5da9d5f546e0fb00078ede96/latest/model\",\n",
    "    auth=(\n",
    "        \"YdjGQYtt8jBp2k4xhItQg7AP1xLRQssMxtts3MluiBIxlTtg84ytFB1yFbSsUncv\",\n",
    "        \"YdjGQYtt8jBp2k4xhItQg7AP1xLRQssMxtts3MluiBIxlTtg84ytFB1yFbSsUncv\"\n",
    "    ),\n",
    "    json={\n",
    "        \"data\": {\"input_array\": pix_28_28_list}\n",
    "    }\n",
    ")\n",
    " \n",
    "print(response.status_code)\n",
    "print(response.headers)\n",
    "print(response.json())"
   ]
  },
  {
   "cell_type": "markdown",
   "metadata": {},
   "source": [
    "## 1x1x28x28x1"
   ]
  },
  {
   "cell_type": "code",
   "execution_count": 59,
   "metadata": {},
   "outputs": [
    {
     "data": {
      "text/plain": [
       "(1, 1, 28, 28, 1)"
      ]
     },
     "execution_count": 59,
     "metadata": {},
     "output_type": "execute_result"
    }
   ],
   "source": [
    "pix_1_1_28_28_1 = np.expand_dims(pix, 0)\n",
    "pix_1_1_28_28_1_list = pix_1_1_28_28_1.tolist()\n",
    "np.asarray(pix_1_1_28_28_1_list).shape"
   ]
  },
  {
   "cell_type": "code",
   "execution_count": 87,
   "metadata": {},
   "outputs": [
    {
     "name": "stdout",
     "output_type": "stream",
     "text": [
      "400\n",
      "{'Server': 'nginx', 'Date': 'Fri, 18 Oct 2019 17:48:47 GMT', 'Content-Type': 'application/json', 'Content-Length': '325', 'Connection': 'keep-alive', 'Access-Control-Allow-Headers': 'authorization,content-type', 'Access-Control-Allow-Methods': 'POST', 'Access-Control-Allow-Origin': '*', 'Vary': 'Accept-Encoding', 'X-Request-Id': 'NHZVT5IDS1A2E34K', 'X-Frame-Options': 'SAMEORIGIN', 'Strict-Transport-Security': 'max-age=15768000; includeSubDomains'}\n",
      "{'error': {'message': 'Error when checking input: expected conv2d_3_input to have 4 dimensions, but got array with shape (1, 1, 28, 28, 1)'}, 'model_time_in_ms': 1, 'release': {'harness_version': '0.1', 'model_version': '5da9faa3c9e77c0007521d9d', 'model_version_number': 8}, 'request_id': 'NHZVT5IDS1A2E34K', 'timing': 0.6108283996582031}\n"
     ]
    }
   ],
   "source": [
    "import requests\n",
    " \n",
    "response = requests.post(\"https://vip.domino.tech:443/models/5da9d5f546e0fb00078ede96/latest/model\",\n",
    "    auth=(\n",
    "        \"YdjGQYtt8jBp2k4xhItQg7AP1xLRQssMxtts3MluiBIxlTtg84ytFB1yFbSsUncv\",\n",
    "        \"YdjGQYtt8jBp2k4xhItQg7AP1xLRQssMxtts3MluiBIxlTtg84ytFB1yFbSsUncv\"\n",
    "    ),\n",
    "    json={\n",
    "        \"data\": {\"input_array\": pix_1_1_28_28_1_list}\n",
    "    }\n",
    ")\n",
    " \n",
    "print(response.status_code)\n",
    "print(response.headers)\n",
    "print(response.json())"
   ]
  },
  {
   "cell_type": "markdown",
   "metadata": {},
   "source": [
    "## 1x28x28x1x1"
   ]
  },
  {
   "cell_type": "code",
   "execution_count": 61,
   "metadata": {},
   "outputs": [
    {
     "data": {
      "text/plain": [
       "(1, 28, 28, 1, 1)"
      ]
     },
     "execution_count": 61,
     "metadata": {},
     "output_type": "execute_result"
    }
   ],
   "source": [
    "pix_1_28_28_1_1 = np.expand_dims(pix, 4)\n",
    "pix_1_28_28_1_1_list = pix_1_28_28_1_1.tolist()\n",
    "np.asarray(pix_1_28_28_1_1_list).shape"
   ]
  },
  {
   "cell_type": "code",
   "execution_count": 88,
   "metadata": {},
   "outputs": [
    {
     "name": "stdout",
     "output_type": "stream",
     "text": [
      "400\n",
      "{'Server': 'nginx', 'Date': 'Fri, 18 Oct 2019 17:48:52 GMT', 'Content-Type': 'application/json', 'Content-Length': '324', 'Connection': 'keep-alive', 'Access-Control-Allow-Headers': 'authorization,content-type', 'Access-Control-Allow-Methods': 'POST', 'Access-Control-Allow-Origin': '*', 'Vary': 'Accept-Encoding', 'X-Request-Id': '8R6Z2TDJCVQ4130F', 'X-Frame-Options': 'SAMEORIGIN', 'Strict-Transport-Security': 'max-age=15768000; includeSubDomains'}\n",
      "{'error': {'message': 'Error when checking input: expected conv2d_3_input to have 4 dimensions, but got array with shape (1, 28, 28, 1, 1)'}, 'model_time_in_ms': 1, 'release': {'harness_version': '0.1', 'model_version': '5da9faa3c9e77c0007521d9d', 'model_version_number': 8}, 'request_id': '8R6Z2TDJCVQ4130F', 'timing': 1.360177993774414}\n"
     ]
    }
   ],
   "source": [
    "import requests\n",
    " \n",
    "response = requests.post(\"https://vip.domino.tech:443/models/5da9d5f546e0fb00078ede96/latest/model\",\n",
    "    auth=(\n",
    "        \"YdjGQYtt8jBp2k4xhItQg7AP1xLRQssMxtts3MluiBIxlTtg84ytFB1yFbSsUncv\",\n",
    "        \"YdjGQYtt8jBp2k4xhItQg7AP1xLRQssMxtts3MluiBIxlTtg84ytFB1yFbSsUncv\"\n",
    "    ),\n",
    "    json={\n",
    "        \"data\": {\"input_array\": pix_1_28_28_1_1_list}\n",
    "    }\n",
    ")\n",
    " \n",
    "print(response.status_code)\n",
    "print(response.headers)\n",
    "print(response.json())"
   ]
  },
  {
   "cell_type": "markdown",
   "metadata": {},
   "source": [
    "## 28x28x1"
   ]
  },
  {
   "cell_type": "code",
   "execution_count": 89,
   "metadata": {},
   "outputs": [
    {
     "name": "stdout",
     "output_type": "stream",
     "text": [
      "(28, 28, 1)\n"
     ]
    },
    {
     "data": {
      "text/plain": [
       "(28, 28, 1)"
      ]
     },
     "execution_count": 89,
     "metadata": {},
     "output_type": "execute_result"
    }
   ],
   "source": [
    "pix_28_28_1 = np.squeeze(pix)\n",
    "pix_28_28_1 = np.expand_dims(pix_28_28_1,2)\n",
    "print(pix_28_28_1.shape)\n",
    "pix_28_28_1_list = pix_28_28_1.tolist()\n",
    "np.asarray(pix_28_28_1_list).shape"
   ]
  },
  {
   "cell_type": "code",
   "execution_count": 90,
   "metadata": {},
   "outputs": [
    {
     "name": "stdout",
     "output_type": "stream",
     "text": [
      "400\n",
      "{'Server': 'nginx', 'Date': 'Fri, 18 Oct 2019 17:49:02 GMT', 'Content-Type': 'application/json', 'Content-Length': '319', 'Connection': 'keep-alive', 'Access-Control-Allow-Headers': 'authorization,content-type', 'Access-Control-Allow-Methods': 'POST', 'Access-Control-Allow-Origin': '*', 'Vary': 'Accept-Encoding', 'X-Request-Id': 'XBAQVY3TEOUWRDM0', 'X-Frame-Options': 'SAMEORIGIN', 'Strict-Transport-Security': 'max-age=15768000; includeSubDomains'}\n",
      "{'error': {'message': 'Error when checking input: expected conv2d_3_input to have 4 dimensions, but got array with shape (28, 28, 1)'}, 'model_time_in_ms': 1, 'release': {'harness_version': '0.1', 'model_version': '5da9faa3c9e77c0007521d9d', 'model_version_number': 8}, 'request_id': 'XBAQVY3TEOUWRDM0', 'timing': 0.5941390991210938}\n"
     ]
    }
   ],
   "source": [
    "import requests\n",
    " \n",
    "response = requests.post(\"https://vip.domino.tech:443/models/5da9d5f546e0fb00078ede96/latest/model\",\n",
    "    auth=(\n",
    "        \"YdjGQYtt8jBp2k4xhItQg7AP1xLRQssMxtts3MluiBIxlTtg84ytFB1yFbSsUncv\",\n",
    "        \"YdjGQYtt8jBp2k4xhItQg7AP1xLRQssMxtts3MluiBIxlTtg84ytFB1yFbSsUncv\"\n",
    "    ),\n",
    "    json={\n",
    "        \"data\": {\"input_array\": pix_28_28_1_list}\n",
    "    }\n",
    ")\n",
    " \n",
    "print(response.status_code)\n",
    "print(response.headers)\n",
    "print(response.json())"
   ]
  },
  {
   "cell_type": "code",
   "execution_count": null,
   "metadata": {},
   "outputs": [],
   "source": []
  }
 ],
 "metadata": {
  "kernelspec": {
   "display_name": "Python 3",
   "language": "python",
   "name": "python3"
  },
  "language_info": {
   "codemirror_mode": {
    "name": "ipython",
    "version": 3
   },
   "file_extension": ".py",
   "mimetype": "text/x-python",
   "name": "python",
   "nbconvert_exporter": "python",
   "pygments_lexer": "ipython3",
   "version": "3.6.6"
  }
 },
 "nbformat": 4,
 "nbformat_minor": 2
}
