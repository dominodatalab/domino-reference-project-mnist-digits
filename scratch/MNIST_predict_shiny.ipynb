{
 "cells": [
  {
   "cell_type": "code",
   "execution_count": 12,
   "metadata": {},
   "outputs": [],
   "source": [
    "def pred_from_shiny(image):\n",
    "    import numpy as np\n",
    "    from PIL import Image\n",
    "\n",
    "    img = Image.open(image)\n",
    "    img = img.resize((28,28))\n",
    "    pix = np.array(img)\n",
    "    pix = pix / 255.\n",
    "    pix = np.expand_dims(pix, 2)\n",
    "    pix = np.expand_dims(pix, 0)\n",
    "    pix_list = pix.tolist()\n",
    "\n",
    "    import requests\n",
    "\n",
    "    response = requests.post(\"https://vip.domino.tech:443/models/5da9d5f546e0fb00078ede96/latest/model\",\n",
    "        auth=(\n",
    "            \"YdjGQYtt8jBp2k4xhItQg7AP1xLRQssMxtts3MluiBIxlTtg84ytFB1yFbSsUncv\",\n",
    "            \"YdjGQYtt8jBp2k4xhItQg7AP1xLRQssMxtts3MluiBIxlTtg84ytFB1yFbSsUncv\"\n",
    "        ),\n",
    "        json={\n",
    "            \"data\": {\"input_array\": pix_list}\n",
    "        }\n",
    "    )\n",
    "\n",
    "    return response.json()\n",
    "\n",
    "pred_from_shiny('out.png')"
   ]
  }
 ],
 "metadata": {
  "kernelspec": {
   "display_name": "Python 3",
   "language": "python",
   "name": "python3"
  },
  "language_info": {
   "codemirror_mode": {
    "name": "ipython",
    "version": 3
   },
   "file_extension": ".py",
   "mimetype": "text/x-python",
   "name": "python",
   "nbconvert_exporter": "python",
   "pygments_lexer": "ipython3",
   "version": "3.6.6"
  }
 },
 "nbformat": 4,
 "nbformat_minor": 2
}
